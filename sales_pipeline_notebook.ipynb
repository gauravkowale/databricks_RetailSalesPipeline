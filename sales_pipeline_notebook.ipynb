{
 "cells": [
  {
   "cell_type": "markdown",
   "metadata": {
    "application/vnd.databricks.v1+cell": {
     "cellMetadata": {},
     "inputWidgets": {},
     "nuid": "1b8a142f-0177-4e24-a3da-96b91ac96c76",
     "showTitle": false,
     "tableResultSettingsMap": {},
     "title": ""
    }
   },
   "source": [
    "# Retail Sales Analytics Pipeline (Databricks / Local Jupyter)\n",
    "\n",
    "This notebook includes:\n",
    "- Instructions to use the sample data\n",
    "- PySpark pipeline (Bronze → Silver → Gold)\n",
    "- Aggregations and visualizations (Plotly)\n",
    "\n",
    "This notebook is ready to run in **Databricks Community Edition** (import the `.ipynb`)"
   ]
  },
  {
   "cell_type": "code",
   "execution_count": 0,
   "metadata": {
    "application/vnd.databricks.v1+cell": {
     "cellMetadata": {
      "byteLimit": 2048000,
      "rowLimit": 10000
     },
     "inputWidgets": {},
     "nuid": "d8c8b3eb-0c48-422b-b68a-f90c67897a91",
     "showTitle": false,
     "tableResultSettingsMap": {},
     "title": ""
    }
   },
   "outputs": [
    {
     "output_type": "stream",
     "name": "stdout",
     "output_type": "stream",
     "text": [
      "When using Databricks Community Edition: upload the CSVs to Data -> Add Data -> DBFS FileStore (/FileStore/raw/)\nLocal sample data path: ./mock_data/sample_data\n"
     ]
    }
   ],
   "source": [
    "Data uploaded to Unity Catalogue"
   ]
  },
  {
   "cell_type": "markdown",
   "metadata": {
    "application/vnd.databricks.v1+cell": {
     "cellMetadata": {},
     "inputWidgets": {},
     "nuid": "ab1fa4e3-608a-4b14-8f26-5289d8392f70",
     "showTitle": false,
     "tableResultSettingsMap": {},
     "title": ""
    }
   },
   "source": [
    "## 1) If you haven't generated sample data yet\n",
    "Run the provided generator script `mock_data/generate_sales_data.py` (it produces ~100,000 sales rows):\n",
    "\n",
    "```\n",
    "python mock_data/generate_sales_data.py --rows 100000\n",
    "```\n"
   ]
  },
  {
   "cell_type": "code",
   "execution_count": 0,
   "metadata": {
    "application/vnd.databricks.v1+cell": {
     "cellMetadata": {
      "byteLimit": 2048000,
      "rowLimit": 10000
     },
     "inputWidgets": {},
     "nuid": "b7e21bea-0f0a-4f20-aa9d-1fd65827be0c",
     "showTitle": false,
     "tableResultSettingsMap": {},
     "title": ""
    }
   },
   "outputs": [
    {
     "output_type": "display_data",
     "data": {
      "text/html": [
       "<style scoped>\n",
       "  .table-result-container {\n",
       "    max-height: 300px;\n",
       "    overflow: auto;\n",
       "  }\n",
       "  table, th, td {\n",
       "    border: 1px solid black;\n",
       "    border-collapse: collapse;\n",
       "  }\n",
       "  th, td {\n",
       "    padding: 5px;\n",
       "  }\n",
       "  th {\n",
       "    text-align: left;\n",
       "  }\n",
       "</style><div class='table-result-container'><table class='table-result'><thead style='background-color: white'><tr><th>transaction_id</th><th>date</th><th>product_id</th><th>customer_id</th><th>quantity</th><th>price</th></tr></thead><tbody><tr><td>T0000001</td><td>2025-07-22</td><td>P2842</td><td>C108225</td><td>2</td><td>70.12</td></tr><tr><td>T0000002</td><td>2025-08-11</td><td>P2222</td><td>C115674</td><td>1</td><td>228.73</td></tr><tr><td>T0000003</td><td>2024-09-10</td><td>P2566</td><td>C112749</td><td>4</td><td>466.19</td></tr><tr><td>T0000004</td><td>2025-01-04</td><td>P2728</td><td>C110241</td><td>1</td><td>172.29</td></tr><tr><td>T0000005</td><td>2024-12-21</td><td>P2688</td><td>C110983</td><td>1</td><td>77.85</td></tr></tbody></table></div>"
      ]
     },
     "metadata": {
      "application/vnd.databricks.v1+output": {
       "addedWidgets": {},
       "aggData": [],
       "aggError": "",
       "aggOverflow": false,
       "aggSchema": [],
       "aggSeriesLimitReached": false,
       "aggType": "",
       "arguments": {},
       "columnCustomDisplayInfos": {},
       "data": [
        [
         "T0000001",
         "2025-07-22",
         "P2842",
         "C108225",
         "2",
         "70.12"
        ],
        [
         "T0000002",
         "2025-08-11",
         "P2222",
         "C115674",
         "1",
         "228.73"
        ],
        [
         "T0000003",
         "2024-09-10",
         "P2566",
         "C112749",
         "4",
         "466.19"
        ],
        [
         "T0000004",
         "2025-01-04",
         "P2728",
         "C110241",
         "1",
         "172.29"
        ],
        [
         "T0000005",
         "2024-12-21",
         "P2688",
         "C110983",
         "1",
         "77.85"
        ]
       ],
       "datasetInfos": [],
       "dbfsResultPath": null,
       "isJsonSchema": true,
       "metadata": {},
       "overflow": false,
       "plotOptions": {
        "customPlotOptions": {},
        "displayType": "table",
        "pivotAggregation": null,
        "pivotColumns": null,
        "xColumns": null,
        "yColumns": null
       },
       "removedWidgets": [],
       "schema": [
        {
         "metadata": "{}",
         "name": "transaction_id",
         "type": "\"string\""
        },
        {
         "metadata": "{}",
         "name": "date",
         "type": "\"string\""
        },
        {
         "metadata": "{}",
         "name": "product_id",
         "type": "\"string\""
        },
        {
         "metadata": "{}",
         "name": "customer_id",
         "type": "\"string\""
        },
        {
         "metadata": "{}",
         "name": "quantity",
         "type": "\"string\""
        },
        {
         "metadata": "{}",
         "name": "price",
         "type": "\"string\""
        }
       ],
       "type": "table"
      }
     },
     "output_type": "display_data"
    }
   ],
   "source": [
    "# PySpark pipeline (works in Databricks notebooks)\n",
    "from pyspark.sql import SparkSession\n",
    "from pyspark.sql.functions import col, sum as _sum, round as _round, month, year\n",
    "\n",
    "spark = SparkSession.builder.appName('RetailSalesPipeline').getOrCreate()\n",
    "\n",
    "# In Databricks, upload CSVs to /FileStore/raw/ and use paths like '/FileStore/raw/sales_transactions.csv'\n",
    "sales_path = 'dbfs:/Volumes/workspace/default/mydata/sales_transactions.csv'  # change to LOCAL_SAMPLE_DIR + '/sales_transactions.csv' if running locally and have pyspark\n",
    "customers_path = 'dbfs:/Volumes/workspace/default/mydata/customers.csv'\n",
    "products_path = 'dbfs:/Volumes/workspace/default/mydata/products.csv'\n",
    "\n",
    "sales_df = spark.read.option('header', True).csv(sales_path)\n",
    "customers_df = spark.read.option('header', True).csv(customers_path)\n",
    "products_df = spark.read.option('header', True).csv(products_path)\n",
    "\n",
    "display(sales_df.limit(5))\n"
   ]
  },
  {
   "cell_type": "code",
   "execution_count": 0,
   "metadata": {
    "application/vnd.databricks.v1+cell": {
     "cellMetadata": {
      "byteLimit": 2048000,
      "rowLimit": 10000
     },
     "inputWidgets": {},
     "nuid": "a1e71ffd-5af2-4570-bb7a-1a381721d287",
     "showTitle": false,
     "tableResultSettingsMap": {},
     "title": ""
    }
   },
   "outputs": [
    {
     "output_type": "display_data",
     "data": {
      "text/html": [
       "<style scoped>\n",
       "  .table-result-container {\n",
       "    max-height: 300px;\n",
       "    overflow: auto;\n",
       "  }\n",
       "  table, th, td {\n",
       "    border: 1px solid black;\n",
       "    border-collapse: collapse;\n",
       "  }\n",
       "  th, td {\n",
       "    padding: 5px;\n",
       "  }\n",
       "  th {\n",
       "    text-align: left;\n",
       "  }\n",
       "</style><div class='table-result-container'><table class='table-result'><thead style='background-color: white'><tr><th>transaction_id</th><th>date</th><th>product_id</th><th>customer_id</th><th>quantity</th><th>price</th></tr></thead><tbody><tr><td>T0000001</td><td>2025-07-22</td><td>P2842</td><td>C108225</td><td>2</td><td>70.12</td></tr><tr><td>T0000002</td><td>2025-08-11</td><td>P2222</td><td>C115674</td><td>1</td><td>228.73</td></tr><tr><td>T0000003</td><td>2024-09-10</td><td>P2566</td><td>C112749</td><td>4</td><td>466.19</td></tr><tr><td>T0000004</td><td>2025-01-04</td><td>P2728</td><td>C110241</td><td>1</td><td>172.29</td></tr><tr><td>T0000005</td><td>2024-12-21</td><td>P2688</td><td>C110983</td><td>1</td><td>77.85</td></tr><tr><td>T0000006</td><td>2025-03-11</td><td>P2300</td><td>C106385</td><td>1</td><td>84.31</td></tr><tr><td>T0000007</td><td>2024-03-17</td><td>P2291</td><td>C106829</td><td>4</td><td>41.0</td></tr><tr><td>T0000008</td><td>2025-07-11</td><td>P2725</td><td>C117498</td><td>1</td><td>435.86</td></tr><tr><td>T0000009</td><td>2024-09-21</td><td>P2834</td><td>C113671</td><td>1</td><td>67.16</td></tr><tr><td>T0000010</td><td>2025-02-15</td><td>P2584</td><td>C115925</td><td>1</td><td>353.95</td></tr><tr><td>T0000011</td><td>2025-01-29</td><td>P2849</td><td>C115000</td><td>2</td><td>316.75</td></tr><tr><td>T0000012</td><td>2025-04-16</td><td>P2932</td><td>C116792</td><td>2</td><td>152.9</td></tr><tr><td>T0000013</td><td>2024-02-08</td><td>P2338</td><td>C119143</td><td>1</td><td>206.54</td></tr><tr><td>T0000014</td><td>2024-06-26</td><td>P2905</td><td>C117672</td><td>2</td><td>302.07</td></tr><tr><td>T0000015</td><td>2025-05-25</td><td>P2506</td><td>C116051</td><td>1</td><td>464.43</td></tr></tbody></table></div>"
      ]
     },
     "metadata": {
      "application/vnd.databricks.v1+output": {
       "addedWidgets": {},
       "aggData": [],
       "aggError": "",
       "aggOverflow": false,
       "aggSchema": [],
       "aggSeriesLimitReached": false,
       "aggType": "",
       "arguments": {},
       "columnCustomDisplayInfos": {},
       "data": [
        [
         "T0000001",
         "2025-07-22",
         "P2842",
         "C108225",
         2,
         70.12
        ],
        [
         "T0000002",
         "2025-08-11",
         "P2222",
         "C115674",
         1,
         228.73
        ],
        [
         "T0000003",
         "2024-09-10",
         "P2566",
         "C112749",
         4,
         466.19
        ],
        [
         "T0000004",
         "2025-01-04",
         "P2728",
         "C110241",
         1,
         172.29
        ],
        [
         "T0000005",
         "2024-12-21",
         "P2688",
         "C110983",
         1,
         77.85
        ],
        [
         "T0000006",
         "2025-03-11",
         "P2300",
         "C106385",
         1,
         84.31
        ],
        [
         "T0000007",
         "2024-03-17",
         "P2291",
         "C106829",
         4,
         41.0
        ],
        [
         "T0000008",
         "2025-07-11",
         "P2725",
         "C117498",
         1,
         435.86
        ],
        [
         "T0000009",
         "2024-09-21",
         "P2834",
         "C113671",
         1,
         67.16
        ],
        [
         "T0000010",
         "2025-02-15",
         "P2584",
         "C115925",
         1,
         353.95
        ],
        [
         "T0000011",
         "2025-01-29",
         "P2849",
         "C115000",
         2,
         316.75
        ],
        [
         "T0000012",
         "2025-04-16",
         "P2932",
         "C116792",
         2,
         152.9
        ],
        [
         "T0000013",
         "2024-02-08",
         "P2338",
         "C119143",
         1,
         206.54
        ],
        [
         "T0000014",
         "2024-06-26",
         "P2905",
         "C117672",
         2,
         302.07
        ],
        [
         "T0000015",
         "2025-05-25",
         "P2506",
         "C116051",
         1,
         464.43
        ]
       ],
       "datasetInfos": [],
       "dbfsResultPath": null,
       "isJsonSchema": true,
       "metadata": {},
       "overflow": false,
       "plotOptions": {
        "customPlotOptions": {},
        "displayType": "table",
        "pivotAggregation": null,
        "pivotColumns": null,
        "xColumns": null,
        "yColumns": null
       },
       "removedWidgets": [],
       "schema": [
        {
         "metadata": "{}",
         "name": "transaction_id",
         "type": "\"string\""
        },
        {
         "metadata": "{}",
         "name": "date",
         "type": "\"string\""
        },
        {
         "metadata": "{}",
         "name": "product_id",
         "type": "\"string\""
        },
        {
         "metadata": "{}",
         "name": "customer_id",
         "type": "\"string\""
        },
        {
         "metadata": "{}",
         "name": "quantity",
         "type": "\"integer\""
        },
        {
         "metadata": "{}",
         "name": "price",
         "type": "\"double\""
        }
       ],
       "type": "table"
      }
     },
     "output_type": "display_data"
    }
   ],
   "source": [
    "# Bronze -> Silver: cleaning\n",
    "clean_sales_df = sales_df.dropna(subset=['price','quantity']) \\\n",
    "    .withColumn('price', col('price').cast('double')) \\\n",
    "    .withColumn('quantity', col('quantity').cast('int')) \\\n",
    "    .filter(col('price') > 0)\n",
    "\n",
    "display(clean_sales_df.limit(15))\n",
    "# Silver -> Gold\n",
    "#display(clean_sales_df.limit(5))\n",
    "# Save to Delta in Databricks; use parquet if Delta is restricted\n",
    "clean_sales_df.write.mode('overwrite').parquet('dbfs:/Volumes/workspace/default/mydata/processed/clean_sales')\n"
   ]
  },
  {
   "cell_type": "code",
   "execution_count": 0,
   "metadata": {
    "application/vnd.databricks.v1+cell": {
     "cellMetadata": {
      "byteLimit": 2048000,
      "rowLimit": 10000
     },
     "inputWidgets": {},
     "nuid": "b9d2d8ed-1099-4f1d-8a2e-5bf4020ca6b5",
     "showTitle": false,
     "tableResultSettingsMap": {},
     "title": ""
    }
   },
   "outputs": [
    {
     "output_type": "display_data",
     "data": {
      "text/html": [
       "<style scoped>\n",
       "  .table-result-container {\n",
       "    max-height: 300px;\n",
       "    overflow: auto;\n",
       "  }\n",
       "  table, th, td {\n",
       "    border: 1px solid black;\n",
       "    border-collapse: collapse;\n",
       "  }\n",
       "  th, td {\n",
       "    padding: 5px;\n",
       "  }\n",
       "  th {\n",
       "    text-align: left;\n",
       "  }\n",
       "</style><div class='table-result-container'><table class='table-result'><thead style='background-color: white'><tr><th>customer_id</th><th>product_id</th><th>transaction_id</th><th>date</th><th>quantity</th><th>price</th><th>product_name</th><th>category</th><th>brand</th><th>customer_name</th><th>city</th><th>region</th></tr></thead><tbody><tr><td>C108225</td><td>P2842</td><td>T0000001</td><td>2025-07-22</td><td>2</td><td>70.12</td><td>Product_D2HE</td><td>Groceries</td><td>BrandB</td><td>Wadtt</td><td>Puebla</td><td>North</td></tr><tr><td>C115674</td><td>P2222</td><td>T0000002</td><td>2025-08-11</td><td>1</td><td>228.73</td><td>Product_I5O1</td><td>Home</td><td>BrandF</td><td>Twcbsjwfzw</td><td>León</td><td>North</td></tr><tr><td>C112749</td><td>P2566</td><td>T0000003</td><td>2024-09-10</td><td>4</td><td>466.19</td><td>Product_WBZE</td><td>Toys</td><td>BrandD</td><td>Hwfpwd</td><td>Cancún</td><td>East</td></tr><tr><td>C110241</td><td>P2728</td><td>T0000004</td><td>2025-01-04</td><td>1</td><td>172.29</td><td>Product_IPQ7</td><td>Clothing</td><td>BrandD</td><td>Roram</td><td>Mexico City</td><td>West</td></tr><tr><td>C110983</td><td>P2688</td><td>T0000005</td><td>2024-12-21</td><td>1</td><td>77.85</td><td>Product_1COQ</td><td>Home</td><td>BrandF</td><td>Jxhftshuld</td><td>Puebla</td><td>North</td></tr></tbody></table></div>"
      ]
     },
     "metadata": {
      "application/vnd.databricks.v1+output": {
       "addedWidgets": {},
       "aggData": [],
       "aggError": "",
       "aggOverflow": false,
       "aggSchema": [],
       "aggSeriesLimitReached": false,
       "aggType": "",
       "arguments": {},
       "columnCustomDisplayInfos": {},
       "data": [
        [
         "C108225",
         "P2842",
         "T0000001",
         "2025-07-22",
         2,
         70.12,
         "Product_D2HE",
         "Groceries",
         "BrandB",
         "Wadtt",
         "Puebla",
         "North"
        ],
        [
         "C115674",
         "P2222",
         "T0000002",
         "2025-08-11",
         1,
         228.73,
         "Product_I5O1",
         "Home",
         "BrandF",
         "Twcbsjwfzw",
         "León",
         "North"
        ],
        [
         "C112749",
         "P2566",
         "T0000003",
         "2024-09-10",
         4,
         466.19,
         "Product_WBZE",
         "Toys",
         "BrandD",
         "Hwfpwd",
         "Cancún",
         "East"
        ],
        [
         "C110241",
         "P2728",
         "T0000004",
         "2025-01-04",
         1,
         172.29,
         "Product_IPQ7",
         "Clothing",
         "BrandD",
         "Roram",
         "Mexico City",
         "West"
        ],
        [
         "C110983",
         "P2688",
         "T0000005",
         "2024-12-21",
         1,
         77.85,
         "Product_1COQ",
         "Home",
         "BrandF",
         "Jxhftshuld",
         "Puebla",
         "North"
        ]
       ],
       "datasetInfos": [],
       "dbfsResultPath": null,
       "isJsonSchema": true,
       "metadata": {},
       "overflow": false,
       "plotOptions": {
        "customPlotOptions": {},
        "displayType": "table",
        "pivotAggregation": null,
        "pivotColumns": null,
        "xColumns": null,
        "yColumns": null
       },
       "removedWidgets": [],
       "schema": [
        {
         "metadata": "{}",
         "name": "customer_id",
         "type": "\"string\""
        },
        {
         "metadata": "{}",
         "name": "product_id",
         "type": "\"string\""
        },
        {
         "metadata": "{}",
         "name": "transaction_id",
         "type": "\"string\""
        },
        {
         "metadata": "{}",
         "name": "date",
         "type": "\"string\""
        },
        {
         "metadata": "{}",
         "name": "quantity",
         "type": "\"integer\""
        },
        {
         "metadata": "{}",
         "name": "price",
         "type": "\"double\""
        },
        {
         "metadata": "{}",
         "name": "product_name",
         "type": "\"string\""
        },
        {
         "metadata": "{}",
         "name": "category",
         "type": "\"string\""
        },
        {
         "metadata": "{}",
         "name": "brand",
         "type": "\"string\""
        },
        {
         "metadata": "{}",
         "name": "customer_name",
         "type": "\"string\""
        },
        {
         "metadata": "{}",
         "name": "city",
         "type": "\"string\""
        },
        {
         "metadata": "{}",
         "name": "region",
         "type": "\"string\""
        }
       ],
       "type": "table"
      }
     },
     "output_type": "display_data"
    }
   ],
   "source": [
    "%python\n",
    "# Rename columns to avoid duplicate 'name'\n",
    "products_df_renamed = products_df.withColumnRenamed('name', 'product_name')\n",
    "customers_df_renamed = customers_df.withColumnRenamed('name', 'customer_name')\n",
    "\n",
    "# Enrich (join)\n",
    "enriched = (\n",
    "    clean_sales_df\n",
    "    .join(products_df_renamed, 'product_id', 'left')\n",
    "    .join(customers_df_renamed, 'customer_id', 'left')\n",
    ")\n",
    "\n",
    "display(enriched.limit(5))\n",
    "enriched.write.mode('overwrite').parquet('dbfs:/Volumes/workspace/default/mydata/processed/enriched_sales')\n"
   ]
  },
  {
   "cell_type": "code",
   "execution_count": 0,
   "metadata": {
    "application/vnd.databricks.v1+cell": {
     "cellMetadata": {
      "byteLimit": 2048000,
      "rowLimit": 10000
     },
     "inputWidgets": {},
     "nuid": "549d3497-b12f-457d-88b3-7606101f438e",
     "showTitle": false,
     "tableResultSettingsMap": {},
     "title": ""
    }
   },
   "outputs": [
    {
     "output_type": "display_data",
     "data": {
      "text/html": [
       "<style scoped>\n",
       "  .table-result-container {\n",
       "    max-height: 300px;\n",
       "    overflow: auto;\n",
       "  }\n",
       "  table, th, td {\n",
       "    border: 1px solid black;\n",
       "    border-collapse: collapse;\n",
       "  }\n",
       "  th, td {\n",
       "    padding: 5px;\n",
       "  }\n",
       "  th {\n",
       "    text-align: left;\n",
       "  }\n",
       "</style><div class='table-result-container'><table class='table-result'><thead style='background-color: white'><tr><th>product_id</th><th>product_name</th><th>category</th><th>total_revenue</th></tr></thead><tbody><tr><td>P2990</td><td>Product_H4E8</td><td>Beauty</td><td>57348.73</td></tr><tr><td>P2856</td><td>Product_0VMV</td><td>Sports</td><td>57047.97</td></tr><tr><td>P2616</td><td>Product_P1B7</td><td>Stationery</td><td>54702.57</td></tr><tr><td>P2185</td><td>Product_0K94</td><td>Sports</td><td>54432.25</td></tr><tr><td>P2658</td><td>Product_QS2V</td><td>Sports</td><td>53672.53</td></tr><tr><td>P2238</td><td>Product_PTV9</td><td>Clothing</td><td>52791.24</td></tr><tr><td>P2675</td><td>Product_LJLT</td><td>Electronics</td><td>52733.12</td></tr><tr><td>P2418</td><td>Product_IDJ1</td><td>Beauty</td><td>52482.98</td></tr><tr><td>P2536</td><td>Product_5JAO</td><td>Groceries</td><td>52281.54</td></tr><tr><td>P2701</td><td>Product_TJVB</td><td>Electronics</td><td>51874.08</td></tr></tbody></table></div>"
      ]
     },
     "metadata": {
      "application/vnd.databricks.v1+output": {
       "addedWidgets": {},
       "aggData": [],
       "aggError": "",
       "aggOverflow": false,
       "aggSchema": [],
       "aggSeriesLimitReached": false,
       "aggType": "",
       "arguments": {},
       "columnCustomDisplayInfos": {},
       "data": [
        [
         "P2990",
         "Product_H4E8",
         "Beauty",
         57348.73
        ],
        [
         "P2856",
         "Product_0VMV",
         "Sports",
         57047.97
        ],
        [
         "P2616",
         "Product_P1B7",
         "Stationery",
         54702.57
        ],
        [
         "P2185",
         "Product_0K94",
         "Sports",
         54432.25
        ],
        [
         "P2658",
         "Product_QS2V",
         "Sports",
         53672.53
        ],
        [
         "P2238",
         "Product_PTV9",
         "Clothing",
         52791.24
        ],
        [
         "P2675",
         "Product_LJLT",
         "Electronics",
         52733.12
        ],
        [
         "P2418",
         "Product_IDJ1",
         "Beauty",
         52482.98
        ],
        [
         "P2536",
         "Product_5JAO",
         "Groceries",
         52281.54
        ],
        [
         "P2701",
         "Product_TJVB",
         "Electronics",
         51874.08
        ]
       ],
       "datasetInfos": [],
       "dbfsResultPath": null,
       "isJsonSchema": true,
       "metadata": {},
       "overflow": false,
       "plotOptions": {
        "customPlotOptions": {},
        "displayType": "table",
        "pivotAggregation": null,
        "pivotColumns": null,
        "xColumns": null,
        "yColumns": null
       },
       "removedWidgets": [],
       "schema": [
        {
         "metadata": "{}",
         "name": "product_id",
         "type": "\"string\""
        },
        {
         "metadata": "{}",
         "name": "product_name",
         "type": "\"string\""
        },
        {
         "metadata": "{}",
         "name": "category",
         "type": "\"string\""
        },
        {
         "metadata": "{}",
         "name": "total_revenue",
         "type": "\"double\""
        }
       ],
       "type": "table"
      }
     },
     "output_type": "display_data"
    }
   ],
   "source": [
    "# Aggregations (Gold)\n",
    "revenue_by_product = enriched.groupBy('product_id', 'product_name', 'category') \\\n",
    "    .agg(_round(_sum(col('price') * col('quantity')), 2).alias('total_revenue'))\n",
    "\n",
    "revenue_by_region = enriched.groupBy('region') \\\n",
    "    .agg(_round(_sum(col('price') * col('quantity')), 2).alias('region_revenue'))\n",
    "\n",
    "display(revenue_by_product.orderBy(col('total_revenue').desc()).limit(10))\n"
   ]
  },
  {
   "cell_type": "code",
   "execution_count": 0,
   "metadata": {
    "application/vnd.databricks.v1+cell": {
     "cellMetadata": {
      "byteLimit": 2048000,
      "rowLimit": 10000
     },
     "inputWidgets": {},
     "nuid": "81581b50-1dcb-458b-bc7e-6d34dd9623dc",
     "showTitle": false,
     "tableResultSettingsMap": {},
     "title": ""
    }
   },
   "outputs": [
    {
     "output_type": "stream",
     "name": "stdout",
     "output_type": "stream",
     "text": [
      "Saved revenue_by_region to dbfs:/Volumes/workspace/default/mydata/processed/gold/revenue_by_region\n"
     ]
    }
   ],
   "source": [
    "# Export a summary CSV for external visualization\n",
    "revenue_by_region.coalesce(1).write.mode('overwrite').csv('dbfs:/Volumes/workspace/default/mydata/processed/gold/revenue_by_region', header=True)\n",
    "print('Saved revenue_by_region to dbfs:/Volumes/workspace/default/mydata/processed/gold/revenue_by_region')\n"
   ]
  },
  {
   "cell_type": "markdown",
   "metadata": {
    "application/vnd.databricks.v1+cell": {
     "cellMetadata": {},
     "inputWidgets": {},
     "nuid": "44541069-bb45-4732-a957-c2a1e09c1f3c",
     "showTitle": false,
     "tableResultSettingsMap": {},
     "title": ""
    }
   },
   "source": [
    "## Visualization (Plotly) - works in local Jupyter and Databricks (with HTML output)\n"
   ]
  },
  {
   "cell_type": "code",
   "execution_count": 0,
   "metadata": {
    "application/vnd.databricks.v1+cell": {
     "cellMetadata": {
      "byteLimit": 2048000,
      "rowLimit": 10000
     },
     "inputWidgets": {},
     "nuid": "a3036b9a-6721-467a-812e-ede3d4a3b455",
     "showTitle": false,
     "tableResultSettingsMap": {},
     "title": ""
    }
   },
   "outputs": [
    {
     "output_type": "display_data",
     "data": {
      "text/html": [
       "<html>\n",
       "<head><meta charset=\"utf-8\" /></head>\n",
       "<body>\n",
       "    <div>            <script src=\"https://cdnjs.cloudflare.com/ajax/libs/mathjax/2.7.5/MathJax.js?config=TeX-AMS-MML_SVG\"></script><script type=\"text/javascript\">if (window.MathJax && window.MathJax.Hub && window.MathJax.Hub.Config) {window.MathJax.Hub.Config({SVG: {font: \"STIX-Web\"}});}</script>                <script type=\"text/javascript\">window.PlotlyConfig = {MathJaxConfig: 'local'};</script>\n",
       "        <script src=\"https://cdn.plot.ly/plotly-2.12.1.min.js\"></script>                <div id=\"1d40b837-3977-40a2-87b3-b46927c8b7f9\" class=\"plotly-graph-div\" style=\"height:100%; width:100%;\"></div>            <script type=\"text/javascript\">                                    window.PLOTLYENV=window.PLOTLYENV || {};                                    if (document.getElementById(\"1d40b837-3977-40a2-87b3-b46927c8b7f9\")) {                    Plotly.newPlot(                        \"1d40b837-3977-40a2-87b3-b46927c8b7f9\",                        [{\"alignmentgroup\":\"True\",\"hovertemplate\":\"region=%{x}<br>region_revenue=%{y}<extra></extra>\",\"legendgroup\":\"\",\"marker\":{\"color\":\"#636efa\",\"pattern\":{\"shape\":\"\"}},\"name\":\"\",\"offsetgroup\":\"\",\"orientation\":\"v\",\"showlegend\":false,\"textposition\":\"auto\",\"x\":[\"West\",\"East\",\"North\",\"South\",\"Central\"],\"xaxis\":\"x\",\"y\":[7685180.83,7674680.19,7569491.47,7847047.79,7831123.3],\"yaxis\":\"y\",\"type\":\"bar\"}],                        {\"template\":{\"data\":{\"histogram2dcontour\":[{\"type\":\"histogram2dcontour\",\"colorbar\":{\"outlinewidth\":0,\"ticks\":\"\"},\"colorscale\":[[0.0,\"#0d0887\"],[0.1111111111111111,\"#46039f\"],[0.2222222222222222,\"#7201a8\"],[0.3333333333333333,\"#9c179e\"],[0.4444444444444444,\"#bd3786\"],[0.5555555555555556,\"#d8576b\"],[0.6666666666666666,\"#ed7953\"],[0.7777777777777778,\"#fb9f3a\"],[0.8888888888888888,\"#fdca26\"],[1.0,\"#f0f921\"]]}],\"choropleth\":[{\"type\":\"choropleth\",\"colorbar\":{\"outlinewidth\":0,\"ticks\":\"\"}}],\"histogram2d\":[{\"type\":\"histogram2d\",\"colorbar\":{\"outlinewidth\":0,\"ticks\":\"\"},\"colorscale\":[[0.0,\"#0d0887\"],[0.1111111111111111,\"#46039f\"],[0.2222222222222222,\"#7201a8\"],[0.3333333333333333,\"#9c179e\"],[0.4444444444444444,\"#bd3786\"],[0.5555555555555556,\"#d8576b\"],[0.6666666666666666,\"#ed7953\"],[0.7777777777777778,\"#fb9f3a\"],[0.8888888888888888,\"#fdca26\"],[1.0,\"#f0f921\"]]}],\"heatmap\":[{\"type\":\"heatmap\",\"colorbar\":{\"outlinewidth\":0,\"ticks\":\"\"},\"colorscale\":[[0.0,\"#0d0887\"],[0.1111111111111111,\"#46039f\"],[0.2222222222222222,\"#7201a8\"],[0.3333333333333333,\"#9c179e\"],[0.4444444444444444,\"#bd3786\"],[0.5555555555555556,\"#d8576b\"],[0.6666666666666666,\"#ed7953\"],[0.7777777777777778,\"#fb9f3a\"],[0.8888888888888888,\"#fdca26\"],[1.0,\"#f0f921\"]]}],\"heatmapgl\":[{\"type\":\"heatmapgl\",\"colorbar\":{\"outlinewidth\":0,\"ticks\":\"\"},\"colorscale\":[[0.0,\"#0d0887\"],[0.1111111111111111,\"#46039f\"],[0.2222222222222222,\"#7201a8\"],[0.3333333333333333,\"#9c179e\"],[0.4444444444444444,\"#bd3786\"],[0.5555555555555556,\"#d8576b\"],[0.6666666666666666,\"#ed7953\"],[0.7777777777777778,\"#fb9f3a\"],[0.8888888888888888,\"#fdca26\"],[1.0,\"#f0f921\"]]}],\"contourcarpet\":[{\"type\":\"contourcarpet\",\"colorbar\":{\"outlinewidth\":0,\"ticks\":\"\"}}],\"contour\":[{\"type\":\"contour\",\"colorbar\":{\"outlinewidth\":0,\"ticks\":\"\"},\"colorscale\":[[0.0,\"#0d0887\"],[0.1111111111111111,\"#46039f\"],[0.2222222222222222,\"#7201a8\"],[0.3333333333333333,\"#9c179e\"],[0.4444444444444444,\"#bd3786\"],[0.5555555555555556,\"#d8576b\"],[0.6666666666666666,\"#ed7953\"],[0.7777777777777778,\"#fb9f3a\"],[0.8888888888888888,\"#fdca26\"],[1.0,\"#f0f921\"]]}],\"surface\":[{\"type\":\"surface\",\"colorbar\":{\"outlinewidth\":0,\"ticks\":\"\"},\"colorscale\":[[0.0,\"#0d0887\"],[0.1111111111111111,\"#46039f\"],[0.2222222222222222,\"#7201a8\"],[0.3333333333333333,\"#9c179e\"],[0.4444444444444444,\"#bd3786\"],[0.5555555555555556,\"#d8576b\"],[0.6666666666666666,\"#ed7953\"],[0.7777777777777778,\"#fb9f3a\"],[0.8888888888888888,\"#fdca26\"],[1.0,\"#f0f921\"]]}],\"mesh3d\":[{\"type\":\"mesh3d\",\"colorbar\":{\"outlinewidth\":0,\"ticks\":\"\"}}],\"scatter\":[{\"fillpattern\":{\"fillmode\":\"overlay\",\"size\":10,\"solidity\":0.2},\"type\":\"scatter\"}],\"parcoords\":[{\"type\":\"parcoords\",\"line\":{\"colorbar\":{\"outlinewidth\":0,\"ticks\":\"\"}}}],\"scatterpolargl\":[{\"type\":\"scatterpolargl\",\"marker\":{\"colorbar\":{\"outlinewidth\":0,\"ticks\":\"\"}}}],\"bar\":[{\"error_x\":{\"color\":\"#2a3f5f\"},\"error_y\":{\"color\":\"#2a3f5f\"},\"marker\":{\"line\":{\"color\":\"#E5ECF6\",\"width\":0.5},\"pattern\":{\"fillmode\":\"overlay\",\"size\":10,\"solidity\":0.2}},\"type\":\"bar\"}],\"scattergeo\":[{\"type\":\"scattergeo\",\"marker\":{\"colorbar\":{\"outlinewidth\":0,\"ticks\":\"\"}}}],\"scatterpolar\":[{\"type\":\"scatterpolar\",\"marker\":{\"colorbar\":{\"outlinewidth\":0,\"ticks\":\"\"}}}],\"histogram\":[{\"marker\":{\"pattern\":{\"fillmode\":\"overlay\",\"size\":10,\"solidity\":0.2}},\"type\":\"histogram\"}],\"scattergl\":[{\"type\":\"scattergl\",\"marker\":{\"colorbar\":{\"outlinewidth\":0,\"ticks\":\"\"}}}],\"scatter3d\":[{\"type\":\"scatter3d\",\"line\":{\"colorbar\":{\"outlinewidth\":0,\"ticks\":\"\"}},\"marker\":{\"colorbar\":{\"outlinewidth\":0,\"ticks\":\"\"}}}],\"scattermapbox\":[{\"type\":\"scattermapbox\",\"marker\":{\"colorbar\":{\"outlinewidth\":0,\"ticks\":\"\"}}}],\"scatterternary\":[{\"type\":\"scatterternary\",\"marker\":{\"colorbar\":{\"outlinewidth\":0,\"ticks\":\"\"}}}],\"scattercarpet\":[{\"type\":\"scattercarpet\",\"marker\":{\"colorbar\":{\"outlinewidth\":0,\"ticks\":\"\"}}}],\"carpet\":[{\"aaxis\":{\"endlinecolor\":\"#2a3f5f\",\"gridcolor\":\"white\",\"linecolor\":\"white\",\"minorgridcolor\":\"white\",\"startlinecolor\":\"#2a3f5f\"},\"baxis\":{\"endlinecolor\":\"#2a3f5f\",\"gridcolor\":\"white\",\"linecolor\":\"white\",\"minorgridcolor\":\"white\",\"startlinecolor\":\"#2a3f5f\"},\"type\":\"carpet\"}],\"table\":[{\"cells\":{\"fill\":{\"color\":\"#EBF0F8\"},\"line\":{\"color\":\"white\"}},\"header\":{\"fill\":{\"color\":\"#C8D4E3\"},\"line\":{\"color\":\"white\"}},\"type\":\"table\"}],\"barpolar\":[{\"marker\":{\"line\":{\"color\":\"#E5ECF6\",\"width\":0.5},\"pattern\":{\"fillmode\":\"overlay\",\"size\":10,\"solidity\":0.2}},\"type\":\"barpolar\"}],\"pie\":[{\"automargin\":true,\"type\":\"pie\"}]},\"layout\":{\"autotypenumbers\":\"strict\",\"colorway\":[\"#636efa\",\"#EF553B\",\"#00cc96\",\"#ab63fa\",\"#FFA15A\",\"#19d3f3\",\"#FF6692\",\"#B6E880\",\"#FF97FF\",\"#FECB52\"],\"font\":{\"color\":\"#2a3f5f\"},\"hovermode\":\"closest\",\"hoverlabel\":{\"align\":\"left\"},\"paper_bgcolor\":\"white\",\"plot_bgcolor\":\"#E5ECF6\",\"polar\":{\"bgcolor\":\"#E5ECF6\",\"angularaxis\":{\"gridcolor\":\"white\",\"linecolor\":\"white\",\"ticks\":\"\"},\"radialaxis\":{\"gridcolor\":\"white\",\"linecolor\":\"white\",\"ticks\":\"\"}},\"ternary\":{\"bgcolor\":\"#E5ECF6\",\"aaxis\":{\"gridcolor\":\"white\",\"linecolor\":\"white\",\"ticks\":\"\"},\"baxis\":{\"gridcolor\":\"white\",\"linecolor\":\"white\",\"ticks\":\"\"},\"caxis\":{\"gridcolor\":\"white\",\"linecolor\":\"white\",\"ticks\":\"\"}},\"coloraxis\":{\"colorbar\":{\"outlinewidth\":0,\"ticks\":\"\"}},\"colorscale\":{\"sequential\":[[0.0,\"#0d0887\"],[0.1111111111111111,\"#46039f\"],[0.2222222222222222,\"#7201a8\"],[0.3333333333333333,\"#9c179e\"],[0.4444444444444444,\"#bd3786\"],[0.5555555555555556,\"#d8576b\"],[0.6666666666666666,\"#ed7953\"],[0.7777777777777778,\"#fb9f3a\"],[0.8888888888888888,\"#fdca26\"],[1.0,\"#f0f921\"]],\"sequentialminus\":[[0.0,\"#0d0887\"],[0.1111111111111111,\"#46039f\"],[0.2222222222222222,\"#7201a8\"],[0.3333333333333333,\"#9c179e\"],[0.4444444444444444,\"#bd3786\"],[0.5555555555555556,\"#d8576b\"],[0.6666666666666666,\"#ed7953\"],[0.7777777777777778,\"#fb9f3a\"],[0.8888888888888888,\"#fdca26\"],[1.0,\"#f0f921\"]],\"diverging\":[[0,\"#8e0152\"],[0.1,\"#c51b7d\"],[0.2,\"#de77ae\"],[0.3,\"#f1b6da\"],[0.4,\"#fde0ef\"],[0.5,\"#f7f7f7\"],[0.6,\"#e6f5d0\"],[0.7,\"#b8e186\"],[0.8,\"#7fbc41\"],[0.9,\"#4d9221\"],[1,\"#276419\"]]},\"xaxis\":{\"gridcolor\":\"white\",\"linecolor\":\"white\",\"ticks\":\"\",\"title\":{\"standoff\":15},\"zerolinecolor\":\"white\",\"automargin\":true,\"zerolinewidth\":2},\"yaxis\":{\"gridcolor\":\"white\",\"linecolor\":\"white\",\"ticks\":\"\",\"title\":{\"standoff\":15},\"zerolinecolor\":\"white\",\"automargin\":true,\"zerolinewidth\":2},\"scene\":{\"xaxis\":{\"backgroundcolor\":\"#E5ECF6\",\"gridcolor\":\"white\",\"linecolor\":\"white\",\"showbackground\":true,\"ticks\":\"\",\"zerolinecolor\":\"white\",\"gridwidth\":2},\"yaxis\":{\"backgroundcolor\":\"#E5ECF6\",\"gridcolor\":\"white\",\"linecolor\":\"white\",\"showbackground\":true,\"ticks\":\"\",\"zerolinecolor\":\"white\",\"gridwidth\":2},\"zaxis\":{\"backgroundcolor\":\"#E5ECF6\",\"gridcolor\":\"white\",\"linecolor\":\"white\",\"showbackground\":true,\"ticks\":\"\",\"zerolinecolor\":\"white\",\"gridwidth\":2}},\"shapedefaults\":{\"line\":{\"color\":\"#2a3f5f\"}},\"annotationdefaults\":{\"arrowcolor\":\"#2a3f5f\",\"arrowhead\":0,\"arrowwidth\":1},\"geo\":{\"bgcolor\":\"white\",\"landcolor\":\"#E5ECF6\",\"subunitcolor\":\"white\",\"showland\":true,\"showlakes\":true,\"lakecolor\":\"white\"},\"title\":{\"x\":0.05},\"mapbox\":{\"style\":\"light\"}}},\"xaxis\":{\"anchor\":\"y\",\"domain\":[0.0,1.0],\"title\":{\"text\":\"region\"}},\"yaxis\":{\"anchor\":\"x\",\"domain\":[0.0,1.0],\"title\":{\"text\":\"region_revenue\"}},\"legend\":{\"tracegroupgap\":0},\"title\":{\"text\":\"Revenue by Region\"},\"barmode\":\"relative\"},                        {\"responsive\": true}                    )                };                            </script>        </div>\n",
       "</body>\n",
       "</html>"
      ]
     },
     "metadata": {},
     "output_type": "display_data"
    }
   ],
   "source": [
    "import plotly.express as px\n",
    "pdf = revenue_by_region.toPandas()\n",
    "fig = px.bar(pdf, x='region', y='region_revenue', title='Revenue by Region')\n",
    "fig.show()\n"
   ]
  },
  {
   "cell_type": "markdown",
   "metadata": {
    "application/vnd.databricks.v1+cell": {
     "cellMetadata": {},
     "inputWidgets": {},
     "nuid": "ec09ed4b-1268-4229-bc0e-201a69585fcd",
     "showTitle": false,
     "tableResultSettingsMap": {},
     "title": ""
    }
   },
   "source": [
    "## Notes\n",
    "- Databricks Community Edition can import this `.ipynb` directly.\n",
    "- To use the notebook in Databricks: Upload the sample CSVs to **Data -> Add Data -> DBFS FileStore -> /FileStore/raw/** and then run the notebook cells.\n"
   ]
  }
 ],
 "metadata": {
  "application/vnd.databricks.v1+notebook": {
   "computePreferences": null,
   "dashboards": [],
   "environmentMetadata": null,
   "inputWidgetPreferences": null,
   "language": "python",
   "notebookMetadata": {
    "pythonIndentUnit": 4
   },
   "notebookName": "sales_pipeline_notebook",
   "widgets": {}
  },
  "kernelspec": {
   "display_name": "Python 3",
   "language": "python",
   "name": "python3"
  },
  "language_info": {
   "name": "python"
  }
 },
 "nbformat": 4,
 "nbformat_minor": 0
}